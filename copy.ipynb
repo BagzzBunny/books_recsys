{
 "cells": [
  {
   "cell_type": "code",
   "execution_count": null,
   "metadata": {},
   "outputs": [],
   "source": [
    "import numpy as np # linear algebra\n",
    "import pandas as pd # data processing, CSV file I/O (e.g. pd.read_csv)\n",
    "book_df = pd.read_csv('data/Books.csv')\n",
    "ratings_df = pd.read_csv('data/Ratings.csv').sample(40000)\n",
    "user_df = pd.read_csv('data/Users.csv')\n",
    "user_rating_df = ratings_df.merge(user_df, left_on = 'User-ID', right_on = 'User-ID')"
   ]
  }
 ],
 "metadata": {
  "language_info": {
   "name": "python"
  },
  "orig_nbformat": 4
 },
 "nbformat": 4,
 "nbformat_minor": 2
}
